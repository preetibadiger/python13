{
 "cells": [
  {
   "cell_type": "code",
   "execution_count": null,
   "id": "852fd73c",
   "metadata": {},
   "outputs": [],
   "source": [
    "1. What advantages do Excel spreadsheets have over CSV spreadsheets?\n",
    "ANS:\n",
    "    \n",
    "    Excel is more superior when compared with the CSV file format; thus, CSV consumes less amount \n",
    "    of file size when the user is importing data; it is a much faster format compared to excel. \n",
    "    CSV does not manipulate data and stores it as-is. Excel also allows the user the add-in feature."
   ]
  },
  {
   "cell_type": "code",
   "execution_count": null,
   "id": "1c396975",
   "metadata": {},
   "outputs": [],
   "source": [
    "2.What do you pass to csv.reader() and csv.writer() to create reader and writer objects?"
   ]
  },
  {
   "cell_type": "code",
   "execution_count": null,
   "id": "dd13c1ae",
   "metadata": {},
   "outputs": [],
   "source": [
    "3. What modes do File objects for reader and writer objects need to be opened in?\n",
    "\n",
    "ANS:\n",
    "    In order to open a file for reading or writing purposes, we must use the built-in open() function. \n",
    "    The open() function uses two arguments. First is the name of the file and second is for what purpose we want to open it"
   ]
  },
  {
   "cell_type": "code",
   "execution_count": null,
   "id": "ffd8cf66",
   "metadata": {},
   "outputs": [],
   "source": [
    "4. What method takes a list argument and writes it to a CSV file?\n",
    "\n",
    "ANS:\n",
    "    The most common method to write data from a list to CSV file is the writerow() method \n",
    "    of writer and DictWriter class"
   ]
  },
  {
   "cell_type": "code",
   "execution_count": null,
   "id": "7c4f9c18",
   "metadata": {},
   "outputs": [],
   "source": [
    "5. What do the keyword arguments delimiter and line terminator do?\n",
    "\n",
    "ANS:\n",
    "    This changes the delimiter and line terminator characters in your file. The delimiter is\n",
    "    the character that appears between cells on a row. By default, the delimiter for a CSV file is a comma. \n",
    "    The line terminator is the character that comes at the end of a row"
   ]
  },
  {
   "cell_type": "code",
   "execution_count": null,
   "id": "ef0454d3",
   "metadata": {},
   "outputs": [],
   "source": [
    "6. What function takes a string of JSON data and returns a Python data structure?\n",
    "\n",
    "ANS:\n",
    "    loads() method return Python data structure of JSON string or data."
   ]
  },
  {
   "cell_type": "code",
   "execution_count": null,
   "id": "4e280ef4",
   "metadata": {},
   "outputs": [],
   "source": [
    "7. What function takes a Python data structure and returns a string of JSON data?\n",
    "\n",
    "ANS:\n",
    "    loads() method return Python data structure of JSON string or data"
   ]
  },
  {
   "cell_type": "code",
   "execution_count": null,
   "id": "9cfe7856",
   "metadata": {},
   "outputs": [],
   "source": []
  }
 ],
 "metadata": {
  "kernelspec": {
   "display_name": "Python 3 (ipykernel)",
   "language": "python",
   "name": "python3"
  },
  "language_info": {
   "codemirror_mode": {
    "name": "ipython",
    "version": 3
   },
   "file_extension": ".py",
   "mimetype": "text/x-python",
   "name": "python",
   "nbconvert_exporter": "python",
   "pygments_lexer": "ipython3",
   "version": "3.9.7"
  }
 },
 "nbformat": 4,
 "nbformat_minor": 5
}
